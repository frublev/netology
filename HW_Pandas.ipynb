{
 "cells": [
  {
   "cell_type": "code",
   "execution_count": 92,
   "metadata": {},
   "outputs": [
    {
     "data": {
      "text/plain": [
       "['James', 'John', 'Robert']"
      ]
     },
     "execution_count": 92,
     "metadata": {},
     "output_type": "execute_result"
    }
   ],
   "source": [
    "import pandas as pd\n",
    "import os\n",
    "\n",
    "def count_names(*args):\n",
    "    result_df = []\n",
    "    for arg in args:\n",
    "        path = 'D:\\\\Netology'\n",
    "        filename = 'yob' + str(arg) + '.txt'\n",
    "        filename = os.path.join(path, filename)\n",
    "        names_df = pd.read_csv(filename, header=None, names=['Name', 'Gender', 'Count'])\n",
    "        #names_df['Year'] = str(arg)\n",
    "        result_df.append(names_df)\n",
    "    result_df = pd.concat(result_df)\n",
    "    #result_df = result_df.reset_index()\n",
    "    result_df = result_df.groupby(['Name', 'Gender']).sum()\n",
    "    result_df = result_df.sort_values(by='Count', ascending=False)\n",
    "    result_df = result_df.reset_index()\n",
    "    return result_df[0 : 3]['Name']\n",
    "\n",
    "result = list(count_names(1900, 1950, 2000))\n",
    "result"
   ]
  },
  {
   "cell_type": "code",
   "execution_count": 116,
   "metadata": {},
   "outputs": [
    {
     "data": {
      "text/plain": [
       "[         Count\n",
       " Gender        \n",
       " F       299800\n",
       " M       150483,           Count\n",
       " Gender         \n",
       " F       1713151\n",
       " M       1790549,           Count\n",
       " Gender         \n",
       " F       1815110\n",
       " M       1962969]"
      ]
     },
     "execution_count": 116,
     "metadata": {},
     "output_type": "execute_result"
    }
   ],
   "source": [
    "import pandas as pd\n",
    "import os\n",
    "\n",
    "def count_names(*args):\n",
    "    result_df = []\n",
    "    for arg in args:\n",
    "        path = 'D:\\\\Netology'\n",
    "        filename = 'yob' + str(arg) + '.txt'\n",
    "        filename = os.path.join(path, filename)\n",
    "        names_df = pd.read_csv(filename, header=None, names=['Name', 'Gender', 'Count'])\n",
    "        names_df = names_df.groupby(['Gender']).sum()\n",
    "        result_df.append(names_df)\n",
    "    return result_df\n",
    "\n",
    "result = count_names(1900, 1950, 2000)\n",
    "result"
   ]
  },
  {
   "cell_type": "code",
   "execution_count": null,
   "metadata": {},
   "outputs": [],
   "source": []
  }
 ],
 "metadata": {
  "kernelspec": {
   "display_name": "Python 3",
   "language": "python",
   "name": "python3"
  },
  "language_info": {
   "codemirror_mode": {
    "name": "ipython",
    "version": 3
   },
   "file_extension": ".py",
   "mimetype": "text/x-python",
   "name": "python",
   "nbconvert_exporter": "python",
   "pygments_lexer": "ipython3",
   "version": "3.7.1"
  }
 },
 "nbformat": 4,
 "nbformat_minor": 2
}
