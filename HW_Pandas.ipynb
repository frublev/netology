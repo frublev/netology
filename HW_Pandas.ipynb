{
 "cells": [
  {
   "cell_type": "code",
   "execution_count": 92,
   "metadata": {},
   "outputs": [
    {
     "data": {
      "text/plain": [
       "['James', 'John', 'Robert']"
      ]
     },
     "execution_count": 92,
     "metadata": {},
     "output_type": "execute_result"
    }
   ],
   "source": [
    "import pandas as pd\n",
    "import os\n",
    "\n",
    "def count_names(*args):\n",
    "    result_df = []\n",
    "    for arg in args:\n",
    "        path = 'D:\\\\Netology'\n",
    "        filename = 'yob' + str(arg) + '.txt'\n",
    "        filename = os.path.join(path, filename)\n",
    "        names_df = pd.read_csv(filename, header=None, names=['Name', 'Gender', 'Count'])\n",
    "        #names_df['Year'] = str(arg)\n",
    "        result_df.append(names_df)\n",
    "    result_df = pd.concat(result_df)\n",
    "    #result_df = result_df.reset_index()\n",
    "    result_df = result_df.groupby(['Name', 'Gender']).sum()\n",
    "    result_df = result_df.sort_values(by='Count', ascending=False)\n",
    "    result_df = result_df.reset_index()\n",
    "    return result_df[0 : 3]['Name']\n",
    "\n",
    "result = list(count_names(1900, 1950, 2000))\n",
    "result"
   ]
  },
  {
   "cell_type": "code",
   "execution_count": 19,
   "metadata": {},
   "outputs": [
    {
     "data": {
      "text/plain": [
       "{'F': [299800, 1713151, 1815110], 'M': [150483, 1790549, 1962969]}"
      ]
     },
     "execution_count": 19,
     "metadata": {},
     "output_type": "execute_result"
    }
   ],
   "source": [
    "import pandas as pd\n",
    "import os\n",
    "\n",
    "def count_names(*args):\n",
    "    result_f = []\n",
    "    result_m = []\n",
    "    for arg in args:\n",
    "        path = 'D:\\\\Netology'\n",
    "        filename = 'yob' + str(arg) + '.txt'\n",
    "        filename = os.path.join(path, filename)\n",
    "        names_df = pd.read_csv(filename, header=None, names=['Name', 'Gender', 'Count'])\n",
    "        names_df = names_df.groupby(['Gender']).sum()\n",
    "        names_df = names_df.reset_index()\n",
    "        names_df = names_df.set_index(['Gender'])\n",
    "        result_f.append(int(names_df.loc[['F'], 'Count']))\n",
    "        result_m.append(int(names_df.loc[['M'], 'Count']))\n",
    "    return {'F': result_f, 'M': result_m}\n",
    "\n",
    "result = count_names(1900, 1950, 2000)\n",
    "result"
   ]
  }
 ],
 "metadata": {
  "kernelspec": {
   "display_name": "Python 3",
   "language": "python",
   "name": "python3"
  },
  "language_info": {
   "codemirror_mode": {
    "name": "ipython",
    "version": 3
   },
   "file_extension": ".py",
   "mimetype": "text/x-python",
   "name": "python",
   "nbconvert_exporter": "python",
   "pygments_lexer": "ipython3",
   "version": "3.7.1"
  }
 },
 "nbformat": 4,
 "nbformat_minor": 2
}
